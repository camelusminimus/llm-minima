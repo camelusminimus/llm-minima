{
 "cells": [
  {
   "metadata": {},
   "cell_type": "markdown",
   "source": "# Helpers for Paths in Jupyter Notebooks",
   "id": "ee0bc54cdd6200ce"
  },
  {
   "metadata": {
    "collapsed": true,
    "ExecuteTime": {
     "end_time": "2025-08-14T07:08:44.620283Z",
     "start_time": "2025-08-14T07:08:44.617617Z"
    }
   },
   "cell_type": "code",
   "source": [
    "import os\n",
    "from pathlib import Path\n",
    "\n",
    "def get_current_path() -> Path:\n",
    "    \"\"\"Return the current path of the calling JUPYTER Notebook\n",
    "    \"\"\"\n",
    "    current_notebook = os.environ.get(\"JPY_SESSION_NAME\")\n",
    "    if current_notebook is None:\n",
    "        raise EnvironmentError(\"JPY_SESSION_NAME is not set\")\n",
    "    return Path(current_notebook).parent\n",
    "\n",
    "def get_project_path() -> Path:\n",
    "    \"\"\"Try to automagically determine the base directory of project\n",
    "\n",
    "    This works by retrieving the base directory of the current file\n",
    "    (as determined by the get_current_path() function) and iteratively\n",
    "    checking for the usual markers found in the base directory, i.e.\n",
    "    a .git directory or a pyproject.toml file.\n",
    "\n",
    "    It will fail somewhat safely by returning the current base directory\n",
    "    \"\"\"\n",
    "    current_path = get_current_path()\n",
    "    for potential_project_path in current_path.parents:\n",
    "        project_git = potential_project_path / \".git\"\n",
    "        if project_git.exists() and project_git.is_dir():\n",
    "            return potential_project_path\n",
    "        pyproject_file = potential_project_path / \"pyproject.toml\"\n",
    "        if pyproject_file.exists() and pyproject_file.is_file():\n",
    "            return potential_project_path\n",
    "    return current_path"
   ],
   "id": "620e7ed71b229c35",
   "outputs": [],
   "execution_count": 1
  },
  {
   "metadata": {
    "ExecuteTime": {
     "end_time": "2025-08-14T07:08:46.689787Z",
     "start_time": "2025-08-14T07:08:46.687398Z"
    }
   },
   "cell_type": "code",
   "source": [
    "current_notebook = os.environ.get(\"JPY_SESSION_NAME\")\n",
    "relative_file_path = Path(current_notebook).relative_to(get_project_path())\n",
    "\n",
    "print(f\"The current Notebook is located at `{relative_file_path}` relative to the current project.\")"
   ],
   "id": "f6cff855bfc91024",
   "execution_count": 2,
   "outputs": [
    {
     "name": "stdout",
     "output_type": "stream",
     "text": [
      "The current Notebook is located at `experiments/tools/path-tools.ipynb` relative to the current project.\n"
     ]
    }
   ]
  }
 ],
 "metadata": {
  "kernelspec": {
   "display_name": "Python 3",
   "language": "python",
   "name": "python3"
  },
  "language_info": {
   "codemirror_mode": {
    "name": "ipython",
    "version": 2
   },
   "file_extension": ".py",
   "mimetype": "text/x-python",
   "name": "python",
   "nbconvert_exporter": "python",
   "pygments_lexer": "ipython2",
   "version": "2.7.6"
  }
 },
 "nbformat": 4,
 "nbformat_minor": 5
}
