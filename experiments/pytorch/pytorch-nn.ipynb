{
 "cells": [
  {
   "metadata": {},
   "cell_type": "markdown",
   "source": [
    "# A Simple Neral Network using pytorch\n",
    "\n",
    "Based on the Book Appendix A"
   ],
   "id": "40c447ddb0c87ce0"
  },
  {
   "metadata": {
    "ExecuteTime": {
     "end_time": "2025-08-13T15:00:23.731918Z",
     "start_time": "2025-08-13T15:00:23.730007Z"
    }
   },
   "cell_type": "code",
   "source": [
    "import os\n",
    "from pathlib import Path\n",
    "\n",
    "def get_current_path():\n",
    "    current_notebook = os.environ.get(\"JPY_SESSION_NAME\")\n",
    "    if current_notebook is None:\n",
    "        raise EnvironmentError(\"JPY_SESSION_NAME is not set\")\n",
    "    return Path(current_notebook).parent"
   ],
   "id": "3095e3dc96fb5dfd",
   "execution_count": 21,
   "outputs": []
  },
  {
   "metadata": {
    "collapsed": true,
    "ExecuteTime": {
     "end_time": "2025-08-13T14:32:54.793831Z",
     "start_time": "2025-08-13T14:32:46.024241Z"
    }
   },
   "cell_type": "code",
   "source": "import torch",
   "id": "4813abd4a7b33b6",
   "outputs": [
    {
     "name": "stdout",
     "output_type": "stream",
     "text": [
      "AMD Radeon RX 7900 XTX\n"
     ]
    }
   ],
   "execution_count": 1
  },
  {
   "metadata": {
    "ExecuteTime": {
     "end_time": "2025-08-13T14:36:21.949833Z",
     "start_time": "2025-08-13T14:36:21.947344Z"
    }
   },
   "cell_type": "code",
   "source": [
    "class NeuralNetwork(torch.nn.Module):\n",
    "    def __init__(self, num_inputs, num_outputs):\n",
    "        super().__init__()\n",
    "        self.layers = torch.nn.Sequential(\n",
    "            # 1st hidden layer\n",
    "            torch.nn.Linear(num_inputs, 30),\n",
    "            torch.nn.ReLU(),\n",
    "\n",
    "            # 2nd hidden layer\n",
    "            torch.nn.Linear(30, 20),\n",
    "            torch.nn.ReLU(),\n",
    "\n",
    "            # output layer\n",
    "            torch.nn.Linear(20, num_outputs),\n",
    "        )\n",
    "\n",
    "    def forward(self, x):\n",
    "        logits = self.layers(x)\n",
    "        return logits"
   ],
   "id": "4d2072a6ec30bd78",
   "execution_count": 2,
   "outputs": []
  },
  {
   "metadata": {
    "ExecuteTime": {
     "end_time": "2025-08-13T14:36:32.313953Z",
     "start_time": "2025-08-13T14:36:32.310736Z"
    }
   },
   "cell_type": "code",
   "source": [
    "model = NeuralNetwork(50, 3)\n",
    "print(model)"
   ],
   "id": "3fd7b24313e91f71",
   "outputs": [
    {
     "name": "stdout",
     "output_type": "stream",
     "text": [
      "NeuralNetwork(\n",
      "  (layers): Sequential(\n",
      "    (0): Linear(in_features=50, out_features=30, bias=True)\n",
      "    (1): ReLU()\n",
      "    (2): Linear(in_features=30, out_features=20, bias=True)\n",
      "    (3): ReLU()\n",
      "    (4): Linear(in_features=20, out_features=3, bias=True)\n",
      "  )\n",
      ")\n"
     ]
    }
   ],
   "execution_count": 3
  },
  {
   "metadata": {
    "ExecuteTime": {
     "end_time": "2025-08-13T14:37:21.176112Z",
     "start_time": "2025-08-13T14:37:21.173705Z"
    }
   },
   "cell_type": "code",
   "source": [
    "num_params = sum(p.numel() for p in model.parameters() if p.requires_grad)\n",
    "print(\"Total number of trainable model parameters:\", num_params)"
   ],
   "id": "7554e344baa43e3",
   "outputs": [
    {
     "name": "stdout",
     "output_type": "stream",
     "text": [
      "Total number of trainable model parameters: 2213\n"
     ]
    }
   ],
   "execution_count": 4
  },
  {
   "metadata": {},
   "cell_type": "markdown",
   "source": "## Toy Dataset",
   "id": "bc757ed84d37222e"
  },
  {
   "metadata": {
    "ExecuteTime": {
     "end_time": "2025-08-13T14:44:03.610818Z",
     "start_time": "2025-08-13T14:44:03.608590Z"
    }
   },
   "cell_type": "code",
   "source": [
    "X_train = torch.tensor([ [-1.2, 3.1], [-0.9, 2.9], [-0.5, 2.6], [2.3, -1.1], [2.7, -1.5] ])\n",
    "y_train = torch.tensor([0, 0, 0, 1, 1])\n",
    "X_test = torch.tensor([ [-0.8, 2.8], [2.6, -1.6], ])\n",
    "y_test = torch.tensor([0, 1])"
   ],
   "id": "d730300ca9155730",
   "outputs": [],
   "execution_count": 5
  },
  {
   "metadata": {
    "ExecuteTime": {
     "end_time": "2025-08-13T14:44:05.157908Z",
     "start_time": "2025-08-13T14:44:05.155734Z"
    }
   },
   "cell_type": "code",
   "source": [
    "from torch.utils.data import Dataset\n",
    "\n",
    "class ToyDataset(Dataset):\n",
    "    def __init__(self, X, y):\n",
    "        self.features = X\n",
    "        self.labels = y\n",
    "\n",
    "    def __getitem__(self, index):\n",
    "        one_x = self.features[index]\n",
    "        one_y = self.labels[index]\n",
    "        return one_x, one_y\n",
    "\n",
    "    def __len__(self):\n",
    "        return self.labels.shape[0]"
   ],
   "id": "ecf5b16fc1dadf31",
   "outputs": [],
   "execution_count": 6
  },
  {
   "metadata": {
    "ExecuteTime": {
     "end_time": "2025-08-13T14:44:46.074447Z",
     "start_time": "2025-08-13T14:44:46.072779Z"
    }
   },
   "cell_type": "code",
   "source": [
    "train_ds = ToyDataset(X_train, y_train)\n",
    "test_ds = ToyDataset(X_test, y_test)"
   ],
   "id": "b966bb51de45b0b5",
   "outputs": [],
   "execution_count": 8
  },
  {
   "metadata": {
    "ExecuteTime": {
     "end_time": "2025-08-13T14:48:56.408777Z",
     "start_time": "2025-08-13T14:48:56.405994Z"
    }
   },
   "cell_type": "code",
   "source": [
    "from torch.utils.data import DataLoader\n",
    "\n",
    "torch.manual_seed(123)\n",
    "\n",
    "train_loader = DataLoader( dataset=train_ds, batch_size=2, shuffle=True, num_workers=0, drop_last=True)\n",
    "test_loader = DataLoader( dataset=test_ds, batch_size=2, shuffle=False, num_workers=0 )"
   ],
   "id": "2a4068d545a04c09",
   "outputs": [],
   "execution_count": 11
  },
  {
   "metadata": {
    "ExecuteTime": {
     "end_time": "2025-08-13T14:48:58.053011Z",
     "start_time": "2025-08-13T14:48:58.045847Z"
    }
   },
   "cell_type": "code",
   "source": [
    "import torch.nn.functional as F\n",
    "\n",
    "torch.manual_seed(123)\n",
    "\n",
    "model = NeuralNetwork(num_inputs=2, num_outputs=2)\n",
    "optimizer = torch.optim.SGD( model.parameters(), lr=0.5 )\n",
    "num_epochs = 3\n",
    "for epoch in range(num_epochs):\n",
    "    model.train()\n",
    "    for batch_idx, (features, labels) in enumerate(train_loader):\n",
    "        logits = model(features)\n",
    "        loss = F.cross_entropy(logits, labels)\n",
    "        optimizer.zero_grad()\n",
    "        loss.backward()\n",
    "        optimizer.step()\n",
    "        ### LOGGING\n",
    "        print(f\"Epoch: {epoch+1:03d}/{num_epochs:03d}\" f\" | Batch {batch_idx:03d}/{len(train_loader):03d}\" f\" | Train Loss: {loss:.2f}\")\n",
    "    model.eval()"
   ],
   "id": "abacabc8911d2e2e",
   "outputs": [
    {
     "name": "stdout",
     "output_type": "stream",
     "text": [
      "Epoch: 001/003 | Batch 000/002 | Train Loss: 0.75\n",
      "Epoch: 001/003 | Batch 001/002 | Train Loss: 0.65\n",
      "Epoch: 002/003 | Batch 000/002 | Train Loss: 0.44\n",
      "Epoch: 002/003 | Batch 001/002 | Train Loss: 0.13\n",
      "Epoch: 003/003 | Batch 000/002 | Train Loss: 0.03\n",
      "Epoch: 003/003 | Batch 001/002 | Train Loss: 0.00\n"
     ]
    }
   ],
   "execution_count": 12
  },
  {
   "metadata": {
    "ExecuteTime": {
     "end_time": "2025-08-13T14:51:06.832983Z",
     "start_time": "2025-08-13T14:51:06.829912Z"
    }
   },
   "cell_type": "code",
   "source": [
    "model.eval()\n",
    "with torch.no_grad():\n",
    "    outputs = model(X_train)\n",
    "print(outputs)"
   ],
   "id": "5da2d353317438be",
   "outputs": [
    {
     "name": "stdout",
     "output_type": "stream",
     "text": [
      "tensor([[ 2.8569, -4.1618],\n",
      "        [ 2.5382, -3.7548],\n",
      "        [ 2.0944, -3.1820],\n",
      "        [-1.4814,  1.4816],\n",
      "        [-1.7176,  1.7342]])\n"
     ]
    }
   ],
   "execution_count": 13
  },
  {
   "metadata": {
    "ExecuteTime": {
     "end_time": "2025-08-13T14:51:39.353521Z",
     "start_time": "2025-08-13T14:51:39.347343Z"
    }
   },
   "cell_type": "code",
   "source": [
    "torch.set_printoptions(sci_mode=False)\n",
    "probas = torch.softmax(outputs, dim=1)\n",
    "print(probas)"
   ],
   "id": "a32046704db84505",
   "outputs": [
    {
     "name": "stdout",
     "output_type": "stream",
     "text": [
      "tensor([[    0.9991,     0.0009],\n",
      "        [    0.9982,     0.0018],\n",
      "        [    0.9949,     0.0051],\n",
      "        [    0.0491,     0.9509],\n",
      "        [    0.0307,     0.9693]])\n"
     ]
    }
   ],
   "execution_count": 14
  },
  {
   "metadata": {
    "ExecuteTime": {
     "end_time": "2025-08-13T14:52:21.429070Z",
     "start_time": "2025-08-13T14:52:21.426842Z"
    }
   },
   "cell_type": "code",
   "source": [
    "predictions = torch.argmax(probas, dim=1)\n",
    "print(predictions)"
   ],
   "id": "24aef6f45dbf9c43",
   "outputs": [
    {
     "name": "stdout",
     "output_type": "stream",
     "text": [
      "tensor([0, 0, 0, 1, 1])\n"
     ]
    }
   ],
   "execution_count": 15
  },
  {
   "metadata": {
    "ExecuteTime": {
     "end_time": "2025-08-13T14:52:55.060904Z",
     "start_time": "2025-08-13T14:52:55.057223Z"
    }
   },
   "cell_type": "code",
   "source": "predictions == y_train",
   "id": "a93083f05808a817",
   "outputs": [
    {
     "data": {
      "text/plain": [
       "tensor([True, True, True, True, True])"
      ]
     },
     "execution_count": 16,
     "metadata": {},
     "output_type": "execute_result"
    }
   ],
   "execution_count": 16
  },
  {
   "metadata": {
    "ExecuteTime": {
     "end_time": "2025-08-13T14:53:28.265340Z",
     "start_time": "2025-08-13T14:53:28.262801Z"
    }
   },
   "cell_type": "code",
   "source": "torch.sum(predictions == y_train)",
   "id": "fd1bc66a10160781",
   "execution_count": 17,
   "outputs": [
    {
     "data": {
      "text/plain": [
       "tensor(5)"
      ]
     },
     "execution_count": 17,
     "metadata": {},
     "output_type": "execute_result"
    }
   ]
  },
  {
   "metadata": {
    "ExecuteTime": {
     "end_time": "2025-08-13T14:54:36.152562Z",
     "start_time": "2025-08-13T14:54:36.150419Z"
    }
   },
   "cell_type": "code",
   "source": [
    "def compute_accuracy(model, dataloader):\n",
    "    model = model.eval()\n",
    "    correct = 0.0\n",
    "    total_examples = 0\n",
    "    for idx, (features, labels) in enumerate(dataloader):\n",
    "        with torch.no_grad():\n",
    "            logits = model(features)\n",
    "            predictions = torch.argmax(logits, dim=1)\n",
    "            compare = labels == predictions\n",
    "            correct += torch.sum(compare)\n",
    "            total_examples += len(compare)\n",
    "    return (correct / total_examples).item()"
   ],
   "id": "2c884bd709941764",
   "outputs": [],
   "execution_count": 18
  },
  {
   "metadata": {
    "ExecuteTime": {
     "end_time": "2025-08-13T14:54:39.001385Z",
     "start_time": "2025-08-13T14:54:38.998626Z"
    }
   },
   "cell_type": "code",
   "source": "print(compute_accuracy(model, train_loader))",
   "id": "e8678dad6fe20ff7",
   "outputs": [
    {
     "name": "stdout",
     "output_type": "stream",
     "text": [
      "1.0\n"
     ]
    }
   ],
   "execution_count": 19
  },
  {
   "metadata": {
    "ExecuteTime": {
     "end_time": "2025-08-13T15:00:28.772430Z",
     "start_time": "2025-08-13T15:00:28.752663Z"
    }
   },
   "cell_type": "code",
   "source": [
    "from IPython.utils.tempdir import TemporaryDirectory\n",
    "\n",
    "with TemporaryDirectory() as tmpdir:\n",
    "    temp_path = Path(tmpdir)\n",
    "    temp_file = temp_path / \"model.pth\"\n",
    "\n",
    "    torch.save(model.state_dict(), temp_file)\n",
    "\n",
    "    model_two = NeuralNetwork(2, 2)\n",
    "    model_two.load_state_dict(torch.load(temp_file))\n"
   ],
   "id": "36ce11a0f3c8d465",
   "outputs": [],
   "execution_count": 22
  },
  {
   "metadata": {},
   "cell_type": "markdown",
   "source": "## On ROCm",
   "id": "af758f3c2eb92fb6"
  },
  {
   "metadata": {
    "ExecuteTime": {
     "end_time": "2025-08-13T15:06:38.267775Z",
     "start_time": "2025-08-13T15:06:38.256869Z"
    }
   },
   "cell_type": "code",
   "source": [
    "device = device = torch.device(\"cuda\" if torch.cuda.is_available() else \"cpu\")\n",
    "print(device)\n",
    "print(torch.cuda.get_device_name(device))\n",
    "\n",
    "torch.manual_seed(123)\n",
    "model = NeuralNetwork(num_inputs=2, num_outputs=2)\n",
    "model = model.to(device)\n",
    "\n",
    "optimizer = torch.optim.SGD( model.parameters(), lr=0.5 )\n",
    "num_epochs = 3\n",
    "for epoch in range(num_epochs):\n",
    "    model.train()\n",
    "    for batch_idx, (features, labels) in enumerate(train_loader):\n",
    "        features = features.to(device)\n",
    "        labels = labels.to(device)\n",
    "\n",
    "        logits = model(features)\n",
    "        loss = F.cross_entropy(logits, labels)\n",
    "        optimizer.zero_grad()\n",
    "        loss.backward()\n",
    "        optimizer.step()\n",
    "        ### LOGGING\n",
    "        print(f\"Epoch: {epoch+1:03d}/{num_epochs:03d}\" f\" | Batch {batch_idx:03d}/{len(train_loader):03d}\" f\" | Train Loss: {loss:.2f}\")\n",
    "    model.eval()\n",
    "\n"
   ],
   "id": "1f39763fc747a885",
   "execution_count": 32,
   "outputs": [
    {
     "name": "stdout",
     "output_type": "stream",
     "text": [
      "cuda\n",
      "AMD Radeon RX 7900 XTX\n",
      "Epoch: 001/003 | Batch 000/002 | Train Loss: 0.75\n",
      "Epoch: 001/003 | Batch 001/002 | Train Loss: 0.65\n",
      "Epoch: 002/003 | Batch 000/002 | Train Loss: 0.44\n",
      "Epoch: 002/003 | Batch 001/002 | Train Loss: 0.13\n",
      "Epoch: 003/003 | Batch 000/002 | Train Loss: 0.03\n",
      "Epoch: 003/003 | Batch 001/002 | Train Loss: 0.00\n"
     ]
    }
   ]
  }
 ],
 "metadata": {
  "kernelspec": {
   "display_name": "Python 3",
   "language": "python",
   "name": "python3"
  },
  "language_info": {
   "codemirror_mode": {
    "name": "ipython",
    "version": 2
   },
   "file_extension": ".py",
   "mimetype": "text/x-python",
   "name": "python",
   "nbconvert_exporter": "python",
   "pygments_lexer": "ipython2",
   "version": "2.7.6"
  }
 },
 "nbformat": 4,
 "nbformat_minor": 5
}
