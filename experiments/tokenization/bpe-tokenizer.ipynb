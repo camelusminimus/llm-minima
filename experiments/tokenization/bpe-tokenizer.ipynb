{
 "cells": [
  {
   "metadata": {},
   "cell_type": "markdown",
   "source": [
    "# Write a BPE Tokenizer\n",
    "\n",
    "Based on the [supplemental code](https://github.com/rasbt/LLMs-from-scratch/blob/main/ch02/05_bpe-from-scratch/bpe-from-scratch.ipynb) from the book."
   ],
   "id": "ee0bc54cdd6200ce"
  },
  {
   "metadata": {
    "collapsed": true,
    "ExecuteTime": {
     "end_time": "2025-08-13T18:31:31.662255Z",
     "start_time": "2025-08-13T18:31:31.659629Z"
    }
   },
   "cell_type": "code",
   "source": [
    "import os\n",
    "import math\n",
    "from pathlib import Path\n",
    "from typing import Mapping, Optional, Iterator, Iterable\n",
    "from IPython.display import Markdown, display\n",
    "\n",
    "def get_current_path():\n",
    "    current_notebook = os.environ.get(\"JPY_SESSION_NAME\")\n",
    "    if current_notebook is None:\n",
    "        raise EnvironmentError(\"JPY_SESSION_NAME is not set\")\n",
    "    return Path(current_notebook).parent\n",
    "\n",
    "def get_project_path():\n",
    "    current_path = get_current_path()\n",
    "    project_path = current_path.parent.parent\n",
    "    project_git = project_path / \".git\"\n",
    "    if not project_git.exists() or (not project_git.is_dir()):\n",
    "        raise ValueError(\"Project Base directory not found\")\n",
    "    return project_path"
   ],
   "id": "620e7ed71b229c35",
   "execution_count": 1,
   "outputs": []
  }
 ],
 "metadata": {
  "kernelspec": {
   "display_name": "Python 3",
   "language": "python",
   "name": "python3"
  },
  "language_info": {
   "codemirror_mode": {
    "name": "ipython",
    "version": 2
   },
   "file_extension": ".py",
   "mimetype": "text/x-python",
   "name": "python",
   "nbconvert_exporter": "python",
   "pygments_lexer": "ipython2",
   "version": "2.7.6"
  }
 },
 "nbformat": 4,
 "nbformat_minor": 5
}
